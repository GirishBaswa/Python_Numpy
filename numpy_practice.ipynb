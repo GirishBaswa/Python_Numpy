{
 "cells": [
  {
   "cell_type": "markdown",
   "metadata": {},
   "source": [
    "# Numpy practice\n"
   ]
  },
  {
   "cell_type": "code",
   "execution_count": 1,
   "metadata": {},
   "outputs": [],
   "source": [
    "import numpy as np"
   ]
  },
  {
   "cell_type": "code",
   "execution_count": 6,
   "metadata": {},
   "outputs": [],
   "source": [
    "np.random.randint?\n"
   ]
  },
  {
   "cell_type": "code",
   "execution_count": null,
   "metadata": {},
   "outputs": [],
   "source": [
    "np.random,randint"
   ]
  },
  {
   "cell_type": "code",
   "execution_count": 2,
   "metadata": {},
   "outputs": [
    {
     "data": {
      "text/plain": [
       "57"
      ]
     },
     "execution_count": 2,
     "metadata": {},
     "output_type": "execute_result"
    }
   ],
   "source": [
    "np.random.randint(1,100)"
   ]
  },
  {
   "cell_type": "code",
   "execution_count": 30,
   "metadata": {},
   "outputs": [],
   "source": [
    "l = np.random.randint(100,size=10)"
   ]
  },
  {
   "cell_type": "code",
   "execution_count": 32,
   "metadata": {},
   "outputs": [
    {
     "data": {
      "text/plain": [
       "array([90, 30, 68,  2, 47, 72, 96, 48, 93, 62])"
      ]
     },
     "execution_count": 32,
     "metadata": {},
     "output_type": "execute_result"
    }
   ],
   "source": [
    "l"
   ]
  },
  {
   "cell_type": "code",
   "execution_count": 11,
   "metadata": {},
   "outputs": [
    {
     "data": {
      "text/plain": [
       "array([49.,  6., 11.,  9., 99., 27., 43., 86., 32., 18.])"
      ]
     },
     "execution_count": 11,
     "metadata": {},
     "output_type": "execute_result"
    }
   ],
   "source": [
    "l.astype(float)"
   ]
  },
  {
   "cell_type": "code",
   "execution_count": 27,
   "metadata": {},
   "outputs": [
    {
     "data": {
      "text/plain": [
       "array([[0.97221982, 0.58455349, 0.50362197, 0.48906732, 0.93327257],\n",
       "       [0.04499327, 0.39478342, 0.72000154, 0.15586753, 0.6802776 ],\n",
       "       [0.54226092, 0.00740657, 0.70552948, 0.52889353, 0.68521537]])"
      ]
     },
     "execution_count": 27,
     "metadata": {},
     "output_type": "execute_result"
    }
   ],
   "source": [
    "np.random.rand(3,5)"
   ]
  },
  {
   "cell_type": "code",
   "execution_count": 19,
   "metadata": {},
   "outputs": [
    {
     "data": {
      "text/plain": [
       "array([[0.44228056, 0.08632337, 0.5854222 , 0.15614473, 0.14296486,\n",
       "        0.73837196, 0.68939275, 0.36168705, 0.58909943, 0.70546049,\n",
       "        0.61442551, 0.28160395, 0.6808122 , 0.12749929, 0.36913421],\n",
       "       [0.69055347, 0.82477259, 0.34567991, 0.97566053, 0.31313444,\n",
       "        0.35056672, 0.19493215, 0.46377627, 0.53342809, 0.95677659,\n",
       "        0.92414081, 0.08234348, 0.84476331, 0.17553967, 0.33446024],\n",
       "       [0.67556532, 0.01904827, 0.35406764, 0.00545651, 0.60212943,\n",
       "        0.48383251, 0.45065807, 0.34469057, 0.97418656, 0.44329379,\n",
       "        0.96573697, 0.46139119, 0.53971391, 0.83439547, 0.2969876 ],\n",
       "       [0.69419382, 0.17465484, 0.0375156 , 0.56566822, 0.9412184 ,\n",
       "        0.18426378, 0.56497139, 0.68493983, 0.85492031, 0.56707086,\n",
       "        0.16927517, 0.96008559, 0.03045995, 0.14335271, 0.4360131 ],\n",
       "       [0.36009417, 0.98784892, 0.32971871, 0.27031738, 0.79191963,\n",
       "        0.3850865 , 0.90851948, 0.99706115, 0.61302072, 0.25873449,\n",
       "        0.2399338 , 0.69141884, 0.79163505, 0.97450527, 0.55992125],\n",
       "       [0.9562063 , 0.15217792, 0.02724785, 0.43078381, 0.96572596,\n",
       "        0.60713443, 0.71926037, 0.84925346, 0.77569358, 0.52869735,\n",
       "        0.07471485, 0.42235199, 0.92360426, 0.46451821, 0.32771352],\n",
       "       [0.30913076, 0.04954644, 0.40357383, 0.30703631, 0.68227477,\n",
       "        0.61172697, 0.51320882, 0.09555581, 0.66984936, 0.33763316,\n",
       "        0.49182547, 0.88962164, 0.0229012 , 0.33616027, 0.4950295 ],\n",
       "       [0.47129407, 0.16802884, 0.38957224, 0.80557892, 0.01528112,\n",
       "        0.54333536, 0.40927535, 0.19084465, 0.6094772 , 0.19198378,\n",
       "        0.19136845, 0.92830194, 0.58598169, 0.74650676, 0.32205864],\n",
       "       [0.43072216, 0.45542225, 0.28458516, 0.49140671, 0.58088343,\n",
       "        0.78686565, 0.85315047, 0.80863953, 0.80512057, 0.25336355,\n",
       "        0.27210436, 0.58269673, 0.28914848, 0.26630108, 0.71640779],\n",
       "       [0.50477648, 0.39070449, 0.81277439, 0.46267777, 0.73718242,\n",
       "        0.71984361, 0.54136578, 0.11093013, 0.50125788, 0.90902779,\n",
       "        0.909865  , 0.07161709, 0.65118812, 0.82541703, 0.49465372]])"
      ]
     },
     "execution_count": 19,
     "metadata": {},
     "output_type": "execute_result"
    }
   ],
   "source": [
    "np.random.rand(10,15)\n"
   ]
  },
  {
   "cell_type": "code",
   "execution_count": 23,
   "metadata": {},
   "outputs": [
    {
     "data": {
      "text/plain": [
       "array([[12.54589601, 14.11797601, 13.01528441, 14.04250892, 11.66964073,\n",
       "        12.3074051 ],\n",
       "       [13.4753228 , 14.1186953 , 13.87930817, 12.82702083, 12.56819056,\n",
       "        11.563865  ],\n",
       "       [10.7738164 , 12.70138785, 13.15072931, 10.10496779, 12.55813842,\n",
       "        10.44656601],\n",
       "       [12.24835998, 10.31828131, 13.2387042 , 11.31509236, 11.33950565,\n",
       "        12.96921889]])"
      ]
     },
     "execution_count": 23,
     "metadata": {},
     "output_type": "execute_result"
    }
   ],
   "source": [
    "np.random.uniform(10,15,size=(4,6))"
   ]
  },
  {
   "cell_type": "code",
   "execution_count": 24,
   "metadata": {},
   "outputs": [
    {
     "data": {
      "text/plain": [
       "array([[-0.14915331, -0.84349879,  0.49116049, -0.86771589,  0.24332994,\n",
       "         0.21852919,  0.65192133, -0.66268847, -0.21418671,  3.01386698,\n",
       "        -0.46510919, -1.17906485, -0.36967495,  1.1237918 , -0.40518801],\n",
       "       [ 0.97606559, -0.36681437, -0.47005776,  0.77089365, -0.11227495,\n",
       "         0.73363703, -0.99291395,  1.13279406, -2.13912808,  1.9761911 ,\n",
       "         1.2184171 ,  0.26710646, -0.90467633, -1.75972322, -1.65274418],\n",
       "       [ 0.93948872, -0.27579353, -0.44660731, -0.03024184, -2.11256599,\n",
       "        -1.18250625,  1.77458102,  0.40080615, -0.68361786, -1.24156219,\n",
       "         0.9667817 , -0.01696732,  1.57120864, -0.52397641, -0.01012087],\n",
       "       [-1.10405255, -0.49744891,  0.07365229, -0.29383363, -1.35039033,\n",
       "         0.98528172,  0.47493944,  0.75073229,  1.53017255, -1.65634636,\n",
       "         1.19327989, -1.70591972,  0.34146642, -0.70259947,  1.39806465],\n",
       "       [-0.85920851, -0.43282203, -0.88039063,  0.01644748,  0.99507521,\n",
       "         0.92218823,  0.48879568,  1.40525218,  0.31582013, -0.98307771,\n",
       "         1.23859855, -1.26944905, -0.28337722,  0.16525285, -0.76710583],\n",
       "       [-0.6440108 , -2.03604306, -0.13476878, -1.02489154,  0.84771861,\n",
       "        -0.56177841, -0.72927301, -2.22526362,  1.45242252, -1.11135584,\n",
       "        -0.24705329,  1.33892662,  1.94094537,  0.76004505,  0.94151448],\n",
       "       [-0.59629924, -0.72896786, -0.37004487, -2.04001358, -0.37437485,\n",
       "         0.23042665, -1.08252397,  0.42410285, -1.60650328, -0.66022621,\n",
       "        -1.18404269, -0.14160516,  0.17752469, -0.70890358,  1.56838531],\n",
       "       [ 0.01306538,  0.92497069,  0.93298276, -0.72437135, -0.07311836,\n",
       "        -0.18361076, -1.32965682,  0.94147931,  1.61856764,  0.18736926,\n",
       "        -0.82095899,  0.97324394,  1.24860102, -0.22951279,  1.66958991],\n",
       "       [ 0.91220189,  0.41369761,  0.33584146,  0.03652254, -0.06960265,\n",
       "        -0.25147444, -0.32696308, -1.2930024 , -0.6988604 ,  0.69759293,\n",
       "         0.217885  ,  0.13792197,  0.62880511,  0.66244448, -1.47892294],\n",
       "       [ 0.61727904, -0.60023726, -0.99300275, -0.64945362, -1.28269664,\n",
       "         1.13566766, -0.56196549, -0.25632629, -0.53329982,  1.22055529,\n",
       "         0.71840065, -0.02548802,  1.229282  , -0.91064871,  1.91608812]])"
      ]
     },
     "execution_count": 24,
     "metadata": {},
     "output_type": "execute_result"
    }
   ],
   "source": [
    "np.random.randn(10,15)"
   ]
  },
  {
   "cell_type": "code",
   "execution_count": 25,
   "metadata": {},
   "outputs": [
    {
     "data": {
      "text/plain": [
       "array([[-1.93354693,  0.09388201,  0.54197632],\n",
       "       [ 1.3357989 ,  2.29390643, -1.7253237 ]])"
      ]
     },
     "execution_count": 25,
     "metadata": {},
     "output_type": "execute_result"
    }
   ],
   "source": [
    "np.random.randn(2,3)"
   ]
  },
  {
   "cell_type": "raw",
   "metadata": {},
   "source": [
    "np.random.normal(2,10,size=(5,10))"
   ]
  },
  {
   "cell_type": "markdown",
   "metadata": {},
   "source": [
    "np.random.randint() - create array within a range and size\n",
    "np.random.rand()- returns a matrix with specified size with values between 0 and 1, all values follow unifrom distribution\n",
    "np.random.uniform() - returns uniformly distributed matrix within specified range\n",
    "np.random.randn() - returns a matrix with specified size with values between 0 and 1, all values follow normal distribution\n",
    "np.random.normal() -  returns normally distributed matrix within specified range\n",
    "np.random.shuffle() - to shuffle order of elements in the given nd array( only 0-axis, 1 st and next axes willnot change) \n"
   ]
  },
  {
   "cell_type": "raw",
   "metadata": {},
   "source": [
    "# shuffle()"
   ]
  },
  {
   "cell_type": "code",
   "execution_count": 34,
   "metadata": {},
   "outputs": [
    {
     "data": {
      "text/plain": [
       "array([10, 11, 12, 13, 14, 15, 16, 17, 18, 19])"
      ]
     },
     "execution_count": 34,
     "metadata": {},
     "output_type": "execute_result"
    }
   ],
   "source": [
    "a = np.arange(10,20)\n",
    "a"
   ]
  },
  {
   "cell_type": "code",
   "execution_count": 45,
   "metadata": {},
   "outputs": [
    {
     "data": {
      "text/plain": [
       "array([16, 18, 12, 11, 10, 15, 17, 19, 13, 14])"
      ]
     },
     "execution_count": 45,
     "metadata": {},
     "output_type": "execute_result"
    }
   ],
   "source": [
    "np.random.shuffle(a)\n",
    "a"
   ]
  },
  {
   "cell_type": "code",
   "execution_count": 52,
   "metadata": {},
   "outputs": [
    {
     "data": {
      "text/plain": [
       "array([[[ 15,  33,  15],\n",
       "        [  8,  84,  67],\n",
       "        [ 68,  71,  60],\n",
       "        [ 92,  51,  43],\n",
       "        [ 26,  33,  96],\n",
       "        [ 35,  19,  38]],\n",
       "\n",
       "       [[ 68,  38,  48],\n",
       "        [ 76,  82,  84],\n",
       "        [ 81,  61,  29],\n",
       "        [  7,  71,  73],\n",
       "        [ 26,  74,  63],\n",
       "        [ 14,  30,   4]],\n",
       "\n",
       "       [[ 91,  51,  83],\n",
       "        [ 37,  35, 100],\n",
       "        [  3,  83,  40],\n",
       "        [ 45,  20,  47],\n",
       "        [ 65,  32,  36],\n",
       "        [ 87,  68,  17]],\n",
       "\n",
       "       [[ 77,  99,   4],\n",
       "        [ 69,  84,  20],\n",
       "        [ 54,  31,  55],\n",
       "        [ 71,  98,  90],\n",
       "        [ 68,  96,  87],\n",
       "        [ 12,  59,  58]]])"
      ]
     },
     "execution_count": 52,
     "metadata": {},
     "output_type": "execute_result"
    }
   ],
   "source": [
    "a = np.random.randint(1,101,size= (4,6,3))\n",
    "a"
   ]
  },
  {
   "cell_type": "code",
   "execution_count": 53,
   "metadata": {},
   "outputs": [
    {
     "data": {
      "text/plain": [
       "array([[[ 77,  99,   4],\n",
       "        [ 69,  84,  20],\n",
       "        [ 54,  31,  55],\n",
       "        [ 71,  98,  90],\n",
       "        [ 68,  96,  87],\n",
       "        [ 12,  59,  58]],\n",
       "\n",
       "       [[ 15,  33,  15],\n",
       "        [  8,  84,  67],\n",
       "        [ 68,  71,  60],\n",
       "        [ 92,  51,  43],\n",
       "        [ 26,  33,  96],\n",
       "        [ 35,  19,  38]],\n",
       "\n",
       "       [[ 91,  51,  83],\n",
       "        [ 37,  35, 100],\n",
       "        [  3,  83,  40],\n",
       "        [ 45,  20,  47],\n",
       "        [ 65,  32,  36],\n",
       "        [ 87,  68,  17]],\n",
       "\n",
       "       [[ 68,  38,  48],\n",
       "        [ 76,  82,  84],\n",
       "        [ 81,  61,  29],\n",
       "        [  7,  71,  73],\n",
       "        [ 26,  74,  63],\n",
       "        [ 14,  30,   4]]])"
      ]
     },
     "execution_count": 53,
     "metadata": {},
     "output_type": "execute_result"
    }
   ],
   "source": [
    "np.random.shuffle(a)\n",
    "a"
   ]
  },
  {
   "cell_type": "code",
   "execution_count": null,
   "metadata": {},
   "outputs": [],
   "source": [
    "Numpy array creation\n",
    "\n",
    "1. array()\n",
    "2. arange()\n",
    "3. linspace()\n",
    "4. zeros()\n",
    "5. ones()\n",
    "6. eye()\n",
    "7. full()\n",
    "8. identity()\n",
    "9. empty()\n",
    "10. random library"
   ]
  },
  {
   "cell_type": "markdown",
   "metadata": {},
   "source": [
    "# array attributes:"
   ]
  },
  {
   "cell_type": "markdown",
   "metadata": {},
   "source": [
    "1. a.ndim  - retuns the dimensions of an array\n",
    "2. a.shape - return the shape of an array(5,), (2,3,4)\n",
    "3. a.size - to get total number of elements\n",
    "4. a.dtype - to get type of array elements\n",
    "5. a.itemsize - (how many bytes)"
   ]
  },
  {
   "cell_type": "code",
   "execution_count": 54,
   "metadata": {},
   "outputs": [],
   "source": [
    "a = np.array([10,20,30,40])"
   ]
  },
  {
   "cell_type": "code",
   "execution_count": 57,
   "metadata": {},
   "outputs": [
    {
     "name": "stdout",
     "output_type": "stream",
     "text": [
      "1\n",
      "4\n",
      "(4,)\n",
      "int32\n",
      "4\n"
     ]
    }
   ],
   "source": [
    "print(a.ndim)\n",
    "print(a.size)\n",
    "print(a.shape)\n",
    "print(a.dtype)\n",
    "print(a.itemsize)"
   ]
  },
  {
   "cell_type": "code",
   "execution_count": 58,
   "metadata": {},
   "outputs": [],
   "source": [
    "a = np.array([[10,20,30,40],[50,60,70,80]])\n"
   ]
  },
  {
   "cell_type": "code",
   "execution_count": 59,
   "metadata": {},
   "outputs": [
    {
     "name": "stdout",
     "output_type": "stream",
     "text": [
      "2\n",
      "8\n",
      "(2, 4)\n",
      "int32\n",
      "4\n"
     ]
    }
   ],
   "source": [
    "print(a.ndim)\n",
    "print(a.size)\n",
    "print(a.shape)\n",
    "print(a.dtype)\n",
    "print(a.itemsize)"
   ]
  },
  {
   "cell_type": "code",
   "execution_count": null,
   "metadata": {},
   "outputs": [],
   "source": []
  }
 ],
 "metadata": {
  "kernelspec": {
   "display_name": "Python 3",
   "language": "python",
   "name": "python3"
  },
  "language_info": {
   "codemirror_mode": {
    "name": "ipython",
    "version": 3
   },
   "file_extension": ".py",
   "mimetype": "text/x-python",
   "name": "python",
   "nbconvert_exporter": "python",
   "pygments_lexer": "ipython3",
   "version": "3.7.6"
  }
 },
 "nbformat": 4,
 "nbformat_minor": 4
}
